{
 "cells": [
  {
   "cell_type": "code",
   "execution_count": null,
   "id": "f4f28bff",
   "metadata": {},
   "outputs": [],
   "source": [
    "# how to split the date and time using datetime format\n",
    "# get the column\n",
    "shopify_otex_loblaw[\"Date\"]\n",
    "# convert this column to date time format\n",
    "date_time_column = pd.to_datetime(shopify_otex_loblaw[\"Date\"])\n",
    "# in datetime format we can specifically pick the date or the time\n",
    "date_time_column.dt.date\n",
    "# date_time_column.dt.time\n",
    "# save t as a new column, throw it back into your df, make a new df\n",
    "\n",
    "#shopify_otex_loblaw_final = pd.concat([yearmonthday, shopify_otex_loblaw], axis=\"columns\", join=\"inner\")\n",
    "#shopify_otex_loblaw_final\n",
    "\n",
    "# Calculate daily returns \n",
    "\n",
    "# note that 'sol' in daily_returns_sol refers to shopify_otex_loblaw\n",
    "\n",
    "daily_returns_sol = shopify_otex_loblaw.iloc[:][[\"Shopify\",\"Otex\", \"Loblaw\"]]\n",
    "daily_returns_sol = daily_returns_sol.pct_change()\n",
    "\n",
    "# Drop NAs\n",
    "\n",
    "daily_returns_sol = daily_returns_sol.dropna().copy()\n",
    "\n",
    "# Display sample data\n",
    "\n",
    "daily_returns_sol\n",
    "\n",
    "# get the column\n",
    "shopify_otex_loblaw[\"Date\"]\n",
    "shopify_otex_loblaw\n",
    "# convert this column to date time format\n",
    "\n",
    "date_time_column = pd.to_datetime(shopify_otex_loblaw[\"Date\"])\n",
    "\n",
    "# in datetime format we can specifically pick the date or the time\n",
    "yearmonthday = date_time_column.dt.date\n",
    "shopify_otex_loblaw[\"Year/Month/Day\"] = yearmonthday\n",
    "\n",
    "\n",
    "shopify_otex_loblaw = shopify_otex_loblaw.drop(columns=[\"Date\"])\n",
    "shopify_otex_loblaw"
   ]
  }
 ],
 "metadata": {
  "kernelspec": {
   "display_name": "Python 3",
   "language": "python",
   "name": "python3"
  },
  "language_info": {
   "codemirror_mode": {
    "name": "ipython",
    "version": 3
   },
   "file_extension": ".py",
   "mimetype": "text/x-python",
   "name": "python",
   "nbconvert_exporter": "python",
   "pygments_lexer": "ipython3",
   "version": "3.8.5"
  }
 },
 "nbformat": 4,
 "nbformat_minor": 5
}
